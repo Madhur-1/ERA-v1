{
 "cells": [
  {
   "cell_type": "code",
   "execution_count": 1,
   "metadata": {},
   "outputs": [],
   "source": [
    "import torch\n",
    "import numpy as np"
   ]
  },
  {
   "cell_type": "code",
   "execution_count": 2,
   "metadata": {},
   "outputs": [
    {
     "name": "stdout",
     "output_type": "stream",
     "text": [
      "tensor([[[[1., 0.],\n",
      "          [0., 1.]],\n",
      "\n",
      "         [[2., 0.],\n",
      "          [0., 2.]]],\n",
      "\n",
      "\n",
      "        [[[2., 0.],\n",
      "          [0., 2.]],\n",
      "\n",
      "         [[3., 0.],\n",
      "          [0., 3.]]]])\n"
     ]
    }
   ],
   "source": [
    "inp = torch.zeros(2,2,2,2)\n",
    "inp[0,0,:,:] = torch.eye(2)\n",
    "inp[0,1,:,:] = 2*torch.eye(2)\n",
    "inp[1,0,:,:] = 2*torch.eye(2)\n",
    "inp[1,1,:,:] = 3*torch.eye(2)\n",
    "print(inp)"
   ]
  },
  {
   "cell_type": "code",
   "execution_count": 4,
   "metadata": {},
   "outputs": [
    {
     "name": "stdout",
     "output_type": "stream",
     "text": [
      "tensor([[[[ 0.3015, -0.9045],\n",
      "          [-0.9045,  0.3015]],\n",
      "\n",
      "         [[ 0.5773, -0.9622],\n",
      "          [-0.9622,  0.5773]]],\n",
      "\n",
      "\n",
      "        [[[ 1.5075, -0.9045],\n",
      "          [-0.9045,  1.5075]],\n",
      "\n",
      "         [[ 1.3471, -0.9622],\n",
      "          [-0.9622,  1.3471]]]], grad_fn=<NativeBatchNormBackward0>)\n"
     ]
    }
   ],
   "source": [
    "bn = torch.nn.BatchNorm2d(2, momentum=1)\n",
    "print(bn(inp))"
   ]
  },
  {
   "cell_type": "code",
   "execution_count": 12,
   "metadata": {},
   "outputs": [
    {
     "data": {
      "text/plain": [
       "tensor([[[[ 0.2820, -0.8461],\n",
       "          [-0.8461,  0.2820]],\n",
       "\n",
       "         [[ 0.5401, -0.9001],\n",
       "          [-0.9001,  0.5401]]],\n",
       "\n",
       "\n",
       "        [[[ 1.4102, -0.8461],\n",
       "          [-0.8461,  1.4102]],\n",
       "\n",
       "         [[ 1.2601, -0.9001],\n",
       "          [-0.9001,  1.2601]]]], grad_fn=<NativeBatchNormBackward0>)"
      ]
     },
     "execution_count": 12,
     "metadata": {},
     "output_type": "execute_result"
    }
   ],
   "source": [
    "bn.eval()\n",
    "bn(inp)"
   ]
  },
  {
   "cell_type": "code",
   "execution_count": 5,
   "metadata": {},
   "outputs": [
    {
     "data": {
      "text/plain": [
       "OrderedDict([('weight', tensor([1., 1.])),\n",
       "             ('bias', tensor([0., 0.])),\n",
       "             ('running_mean', tensor([0.7500, 1.2500])),\n",
       "             ('running_var', tensor([0.7857, 1.9286])),\n",
       "             ('num_batches_tracked', tensor(1))])"
      ]
     },
     "execution_count": 5,
     "metadata": {},
     "output_type": "execute_result"
    }
   ],
   "source": [
    "bn.state_dict()"
   ]
  },
  {
   "cell_type": "code",
   "execution_count": 19,
   "metadata": {},
   "outputs": [
    {
     "data": {
      "text/plain": [
       "tensor([[[[1., 0.],\n",
       "          [0., 1.]],\n",
       "\n",
       "         [[2., 0.],\n",
       "          [0., 2.]]],\n",
       "\n",
       "\n",
       "        [[[2., 0.],\n",
       "          [0., 2.]],\n",
       "\n",
       "         [[3., 0.],\n",
       "          [0., 3.]]]])"
      ]
     },
     "execution_count": 19,
     "metadata": {},
     "output_type": "execute_result"
    }
   ],
   "source": [
    "inp"
   ]
  },
  {
   "cell_type": "code",
   "execution_count": 17,
   "metadata": {},
   "outputs": [
    {
     "data": {
      "text/plain": [
       "tensor([[[[ 1.0000, -1.0000],\n",
       "          [-1.0000,  1.0000]],\n",
       "\n",
       "         [[ 1.0000, -1.0000],\n",
       "          [-1.0000,  1.0000]]],\n",
       "\n",
       "\n",
       "        [[[ 1.0000, -1.0000],\n",
       "          [-1.0000,  1.0000]],\n",
       "\n",
       "         [[ 1.0000, -1.0000],\n",
       "          [-1.0000,  1.0000]]]], grad_fn=<NativeGroupNormBackward0>)"
      ]
     },
     "execution_count": 17,
     "metadata": {},
     "output_type": "execute_result"
    }
   ],
   "source": [
    "gn = torch.nn.GroupNorm(2,2)\n",
    "gn(inp)"
   ]
  },
  {
   "cell_type": "code",
   "execution_count": 18,
   "metadata": {},
   "outputs": [
    {
     "data": {
      "text/plain": [
       "OrderedDict([('weight', tensor([1., 1.])), ('bias', tensor([0., 0.]))])"
      ]
     },
     "execution_count": 18,
     "metadata": {},
     "output_type": "execute_result"
    }
   ],
   "source": [
    "gn.state_dict()"
   ]
  },
  {
   "cell_type": "code",
   "execution_count": 9,
   "metadata": {},
   "outputs": [
    {
     "data": {
      "text/plain": [
       "tensor([[[[ 0.3015, -0.9045],\n",
       "          [-0.9045,  0.3015]],\n",
       "\n",
       "         [[ 1.5075, -0.9045],\n",
       "          [-0.9045,  1.5075]]],\n",
       "\n",
       "\n",
       "        [[[ 0.5773, -0.9622],\n",
       "          [-0.9622,  0.5773]],\n",
       "\n",
       "         [[ 1.3471, -0.9622],\n",
       "          [-0.9622,  1.3471]]]], grad_fn=<NativeLayerNormBackward0>)"
      ]
     },
     "execution_count": 9,
     "metadata": {},
     "output_type": "execute_result"
    }
   ],
   "source": [
    "ln = torch.nn.LayerNorm([2,2,2])\n",
    "ln(inp)"
   ]
  },
  {
   "cell_type": "code",
   "execution_count": 11,
   "metadata": {},
   "outputs": [
    {
     "data": {
      "text/plain": [
       "OrderedDict([('weight',\n",
       "              tensor([[[1., 1.],\n",
       "                       [1., 1.]],\n",
       "              \n",
       "                      [[1., 1.],\n",
       "                       [1., 1.]]])),\n",
       "             ('bias',\n",
       "              tensor([[[0., 0.],\n",
       "                       [0., 0.]],\n",
       "              \n",
       "                      [[0., 0.],\n",
       "                       [0., 0.]]]))])"
      ]
     },
     "execution_count": 11,
     "metadata": {},
     "output_type": "execute_result"
    }
   ],
   "source": [
    "ln.state_dict()"
   ]
  },
  {
   "cell_type": "code",
   "execution_count": 20,
   "metadata": {},
   "outputs": [
    {
     "data": {
      "text/plain": [
       "tensor([[[[ 1.0000, -1.0000],\n",
       "          [-1.0000,  1.0000]],\n",
       "\n",
       "         [[ 1.0000, -1.0000],\n",
       "          [-1.0000,  1.0000]]],\n",
       "\n",
       "\n",
       "        [[[ 1.0000, -1.0000],\n",
       "          [-1.0000,  1.0000]],\n",
       "\n",
       "         [[ 1.0000, -1.0000],\n",
       "          [-1.0000,  1.0000]]]])"
      ]
     },
     "execution_count": 20,
     "metadata": {},
     "output_type": "execute_result"
    }
   ],
   "source": [
    "inn = torch.nn.InstanceNorm2d(2)\n",
    "inn(inp)"
   ]
  },
  {
   "cell_type": "code",
   "execution_count": 21,
   "metadata": {},
   "outputs": [
    {
     "data": {
      "text/plain": [
       "OrderedDict()"
      ]
     },
     "execution_count": 21,
     "metadata": {},
     "output_type": "execute_result"
    }
   ],
   "source": [
    "inn.state_dict()"
   ]
  },
  {
   "cell_type": "code",
   "execution_count": null,
   "metadata": {},
   "outputs": [],
   "source": []
  }
 ],
 "metadata": {
  "kernelspec": {
   "display_name": "Python 3",
   "language": "python",
   "name": "python3"
  },
  "language_info": {
   "codemirror_mode": {
    "name": "ipython",
    "version": 3
   },
   "file_extension": ".py",
   "mimetype": "text/x-python",
   "name": "python",
   "nbconvert_exporter": "python",
   "pygments_lexer": "ipython3",
   "version": "3.10.11"
  },
  "orig_nbformat": 4
 },
 "nbformat": 4,
 "nbformat_minor": 2
}
